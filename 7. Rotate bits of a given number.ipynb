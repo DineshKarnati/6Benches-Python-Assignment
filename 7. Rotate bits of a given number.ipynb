{
 "cells": [
  {
   "cell_type": "code",
   "execution_count": 2,
   "metadata": {},
   "outputs": [
    {
     "name": "stdout",
     "output_type": "stream",
     "text": [
      "int bits32\n",
      "enter number16\n",
      "No of bits2\n"
     ]
    },
    {
     "data": {
      "text/plain": [
       "17179869188"
      ]
     },
     "execution_count": 2,
     "metadata": {},
     "output_type": "execute_result"
    }
   ],
   "source": [
    "bits = int(input(\"int bits\"))\n",
    "n = int(input(\"enter number\"))\n",
    "d = int(input(\"No of bits\"))\n",
    "\n",
    "def leftrotation(n,d):\n",
    "    return (n << d)|(n >> (bits - d))\n",
    "def rightrotation(n,d):\n",
    "    return (n >> d)|(n << (bits - d))\n",
    "\n",
    "leftrotation(n,d)\n",
    "rightrotation(n,d)\n"
   ]
  },
  {
   "cell_type": "code",
   "execution_count": null,
   "metadata": {},
   "outputs": [],
   "source": [
    "INT_BITS = 32\n",
    "\n",
    "def leftRotate(n, d): \n",
    "    return (n << d)|(n >> (INT_BITS - d)) \n",
    "  \n",
    "def rightRotate(n, d):   \n",
    "    return (n >> d)|(n << (INT_BITS - d)) & 0xFFFFFFFF  \n",
    "n = 16\n",
    "d = 2\n",
    "  \n",
    "print(\"Left Rotation is\",end=\" \") \n",
    "print(leftRotate(n, d)) \n",
    "  \n",
    "print(\"Right Rotation of\",n,\"by\"\n",
    "     ,d,\"is\",end=\" \") \n",
    "print(rightRotate(n, d)) \n"
   ]
  }
 ],
 "metadata": {
  "kernelspec": {
   "display_name": "Python 3",
   "language": "python",
   "name": "python3"
  },
  "language_info": {
   "codemirror_mode": {
    "name": "ipython",
    "version": 3
   },
   "file_extension": ".py",
   "mimetype": "text/x-python",
   "name": "python",
   "nbconvert_exporter": "python",
   "pygments_lexer": "ipython3",
   "version": "3.7.1"
  }
 },
 "nbformat": 4,
 "nbformat_minor": 2
}
